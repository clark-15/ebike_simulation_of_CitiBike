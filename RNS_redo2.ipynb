{
 "cells": [
  {
   "cell_type": "code",
   "execution_count": 1,
   "metadata": {},
   "outputs": [],
   "source": [
    "import numpy as np\n",
    "import pandas as pd\n",
    "import matplotlib.pyplot as plt\n",
    "import scipy as sc\n",
    "from scipy import stats"
   ]
  },
  {
   "cell_type": "code",
   "execution_count": 2,
   "metadata": {},
   "outputs": [],
   "source": [
    "import Sim_random_pick_out_of_battery_trip_dest_selection\n",
    "from datetime import timedelta as td\n",
    "from datetime import datetime as time"
   ]
  },
  {
   "cell_type": "markdown",
   "metadata": {},
   "source": [
    "suppose we just need a subset of stations to be ebike stations"
   ]
  },
  {
   "cell_type": "code",
   "execution_count": 30,
   "metadata": {},
   "outputs": [],
   "source": [
    "#p = [0.1,0.2,0.3,0.4,0.5]\n",
    "#p = [0.6,0.7,0.8,0.9]\n",
    "p = [0.8,0.9,0.95]"
   ]
  },
  {
   "cell_type": "markdown",
   "metadata": {},
   "source": [
    "stations_ranked is a data file that sorted the stations by their demand (popularity) (= tripsin+tripsout+tripsfailedin+tripsfailedout)"
   ]
  },
  {
   "cell_type": "code",
   "execution_count": 31,
   "metadata": {},
   "outputs": [
    {
     "data": {
      "text/html": [
       "<div>\n",
       "<style scoped>\n",
       "    .dataframe tbody tr th:only-of-type {\n",
       "        vertical-align: middle;\n",
       "    }\n",
       "\n",
       "    .dataframe tbody tr th {\n",
       "        vertical-align: top;\n",
       "    }\n",
       "\n",
       "    .dataframe thead th {\n",
       "        text-align: right;\n",
       "    }\n",
       "</style>\n",
       "<table border=\"1\" class=\"dataframe\">\n",
       "  <thead>\n",
       "    <tr style=\"text-align: right;\">\n",
       "      <th></th>\n",
       "      <th>stationid</th>\n",
       "      <th>tripsin</th>\n",
       "      <th>tripsout</th>\n",
       "      <th>tripsfailedin</th>\n",
       "      <th>tripsfailedout</th>\n",
       "      <th>tripsfailedout_battery</th>\n",
       "      <th>trips_failedout_destinationfull</th>\n",
       "      <th>station_capacity</th>\n",
       "      <th>demand</th>\n",
       "      <th>percent</th>\n",
       "    </tr>\n",
       "  </thead>\n",
       "  <tbody>\n",
       "    <tr>\n",
       "      <th>0</th>\n",
       "      <td>519</td>\n",
       "      <td>68062</td>\n",
       "      <td>68086</td>\n",
       "      <td>66</td>\n",
       "      <td>13003</td>\n",
       "      <td>0</td>\n",
       "      <td>1723</td>\n",
       "      <td>61</td>\n",
       "      <td>149217</td>\n",
       "      <td>0.008820</td>\n",
       "    </tr>\n",
       "    <tr>\n",
       "      <th>1</th>\n",
       "      <td>426</td>\n",
       "      <td>59633</td>\n",
       "      <td>59645</td>\n",
       "      <td>3078</td>\n",
       "      <td>8907</td>\n",
       "      <td>0</td>\n",
       "      <td>1336</td>\n",
       "      <td>29</td>\n",
       "      <td>131263</td>\n",
       "      <td>0.007759</td>\n",
       "    </tr>\n",
       "    <tr>\n",
       "      <th>2</th>\n",
       "      <td>497</td>\n",
       "      <td>54780</td>\n",
       "      <td>54794</td>\n",
       "      <td>578</td>\n",
       "      <td>5234</td>\n",
       "      <td>0</td>\n",
       "      <td>1195</td>\n",
       "      <td>59</td>\n",
       "      <td>115386</td>\n",
       "      <td>0.006820</td>\n",
       "    </tr>\n",
       "    <tr>\n",
       "      <th>3</th>\n",
       "      <td>514</td>\n",
       "      <td>48941</td>\n",
       "      <td>48929</td>\n",
       "      <td>1088</td>\n",
       "      <td>9459</td>\n",
       "      <td>0</td>\n",
       "      <td>855</td>\n",
       "      <td>52</td>\n",
       "      <td>108417</td>\n",
       "      <td>0.006408</td>\n",
       "    </tr>\n",
       "    <tr>\n",
       "      <th>4</th>\n",
       "      <td>435</td>\n",
       "      <td>49798</td>\n",
       "      <td>49817</td>\n",
       "      <td>160</td>\n",
       "      <td>5577</td>\n",
       "      <td>0</td>\n",
       "      <td>997</td>\n",
       "      <td>47</td>\n",
       "      <td>105352</td>\n",
       "      <td>0.006227</td>\n",
       "    </tr>\n",
       "  </tbody>\n",
       "</table>\n",
       "</div>"
      ],
      "text/plain": [
       "   stationid  tripsin  tripsout  tripsfailedin  tripsfailedout  \\\n",
       "0        519    68062     68086             66           13003   \n",
       "1        426    59633     59645           3078            8907   \n",
       "2        497    54780     54794            578            5234   \n",
       "3        514    48941     48929           1088            9459   \n",
       "4        435    49798     49817            160            5577   \n",
       "\n",
       "   tripsfailedout_battery  trips_failedout_destinationfull  station_capacity  \\\n",
       "0                       0                             1723                61   \n",
       "1                       0                             1336                29   \n",
       "2                       0                             1195                59   \n",
       "3                       0                              855                52   \n",
       "4                       0                              997                47   \n",
       "\n",
       "   demand   percent  \n",
       "0  149217  0.008820  \n",
       "1  131263  0.007759  \n",
       "2  115386  0.006820  \n",
       "3  108417  0.006408  \n",
       "4  105352  0.006227  "
      ]
     },
     "execution_count": 31,
     "metadata": {},
     "output_type": "execute_result"
    }
   ],
   "source": [
    "stations_ranked = pd.read_csv(\"stations.csv\")\n",
    "stations_ranked.head()"
   ]
  },
  {
   "cell_type": "code",
   "execution_count": 32,
   "metadata": {},
   "outputs": [
    {
     "data": {
      "text/plain": [
       "823"
      ]
     },
     "execution_count": 32,
     "metadata": {},
     "output_type": "execute_result"
    }
   ],
   "source": [
    "total_stations = len(stations_ranked)\n",
    "total_stations"
   ]
  },
  {
   "cell_type": "code",
   "execution_count": 33,
   "metadata": {},
   "outputs": [],
   "source": [
    "initial_stations=eval(open((\"stations_initial.txt\")).read())"
   ]
  },
  {
   "cell_type": "markdown",
   "metadata": {},
   "source": [
    "Still assume 40% of the fleet size have e-bikes. Also we assume that if a station is chosen to be ebike station, then all docks are electrified."
   ]
  },
  {
   "cell_type": "markdown",
   "metadata": {},
   "source": [
    "The code in the following block is trying to get the steady state after 30-week simulation, assuming we choose p percent of stations to be electrified. The first p-percent of stations in the stations_ranked list was selected to be the ebike stations in this simulation."
   ]
  },
  {
   "cell_type": "code",
   "execution_count": 34,
   "metadata": {},
   "outputs": [],
   "source": [
    "from copy import deepcopy\n",
    "initial_stations_copy = deepcopy(initial_stations)"
   ]
  },
  {
   "cell_type": "code",
   "execution_count": 35,
   "metadata": {},
   "outputs": [
    {
     "name": "stdout",
     "output_type": "stream",
     "text": [
      "the total number of ebikes: 10149\n",
      "the total number of regular bikes: 0\n",
      "2017-07-01 06:00:02.217335 0\n",
      "2017-07-08 06:00:00.569163 1\n",
      "2017-07-15 06:00:04.231489 2\n",
      "2017-07-22 06:00:00.279842 3\n",
      "2017-07-29 06:00:01.907117 4\n",
      "2017-08-05 06:00:04.153920 5\n",
      "2017-08-12 06:00:04.983133 6\n",
      "2017-08-19 06:00:03.492337 7\n",
      "2017-08-26 06:00:09.362010 8\n",
      "2017-09-02 06:00:00.235340 9\n",
      "2017-09-09 06:00:00.447500 10\n",
      "2017-09-16 06:00:03.232987 11\n",
      "2017-09-23 06:00:01.510488 12\n",
      "2017-09-30 06:00:01.292404 13\n",
      "2017-10-07 06:00:01.669361 14\n",
      "2017-10-14 06:00:01.678177 15\n",
      "2017-10-21 06:00:01.822705 16\n",
      "2017-10-28 06:00:00.703844 17\n",
      "2017-11-04 06:00:00.292488 18\n",
      "2017-11-11 06:00:03.018000 19\n",
      "2017-11-18 06:00:00.572569 20\n",
      "2017-11-25 06:00:00.005591 21\n",
      "2017-12-02 06:00:00.441256 22\n",
      "2017-12-09 06:00:00.087041 23\n",
      "2017-12-16 06:00:02.413116 24\n",
      "2017-12-23 06:00:00.461979 25\n",
      "2017-12-30 06:00:01.275605 26\n",
      "2018-01-06 06:00:02.243513 27\n",
      "2018-01-13 06:00:00.752414 28\n",
      "2018-01-20 06:00:02.692846 29\n",
      "2018-01-27 06:00:05.993212 30\n",
      "the total number of ebikes: 10149\n",
      "the total number of regular bikes: 0\n",
      "2017-07-01 06:00:01.204097 0\n",
      "2017-07-08 06:00:07.112874 1\n",
      "2017-07-15 06:00:00.950638 2\n",
      "2017-07-22 06:00:01.425442 3\n",
      "2017-07-29 06:00:01.321098 4\n",
      "2017-08-05 06:00:01.325864 5\n",
      "2017-08-12 06:00:01.726112 6\n",
      "2017-08-19 06:00:00.781108 7\n",
      "2017-08-26 06:00:00.754087 8\n",
      "2017-09-02 06:00:00.366873 9\n",
      "2017-09-09 06:00:00.373930 10\n",
      "2017-09-16 06:00:02.154924 11\n",
      "2017-09-23 06:00:00.069466 12\n",
      "2017-09-30 06:00:03.747695 13\n",
      "2017-10-07 06:00:04.415455 14\n",
      "2017-10-14 06:00:07.472305 15\n",
      "2017-10-21 06:00:00.924357 16\n",
      "2017-10-28 06:00:00.375205 17\n",
      "2017-11-04 06:00:02.405096 18\n",
      "2017-11-11 06:00:01.399113 19\n",
      "2017-11-18 06:00:00.045600 20\n",
      "2017-11-25 06:00:00.000968 21\n",
      "2017-12-02 06:00:01.572497 22\n",
      "2017-12-09 06:00:00.256932 23\n",
      "2017-12-16 06:00:01.819687 24\n",
      "2017-12-23 06:00:00.745263 25\n",
      "2017-12-30 06:00:00.882281 26\n",
      "2018-01-06 06:00:00.872932 27\n",
      "2018-01-13 06:00:01.282693 28\n",
      "2018-01-20 06:00:00.025466 29\n",
      "2018-01-27 06:00:01.495769 30\n",
      "the total number of ebikes: 10149\n",
      "the total number of regular bikes: 0\n",
      "2017-07-01 06:00:01.929561 0\n",
      "2017-07-08 06:00:00.526094 1\n",
      "2017-07-15 06:00:03.630251 2\n",
      "2017-07-22 06:00:01.379282 3\n",
      "2017-07-29 06:00:01.916160 4\n",
      "2017-08-05 06:00:00.334957 5\n",
      "2017-08-12 06:00:00.835674 6\n",
      "2017-08-19 06:00:00.373168 7\n",
      "2017-08-26 06:00:00.763413 8\n",
      "2017-09-02 06:00:04.978801 9\n",
      "2017-09-09 06:00:05.230842 10\n",
      "2017-09-16 06:00:00.197285 11\n",
      "2017-09-23 06:00:00.539697 12\n",
      "2017-09-30 06:00:03.300976 13\n",
      "2017-10-07 06:00:00.236260 14\n",
      "2017-10-14 06:00:00.282718 15\n",
      "2017-10-21 06:00:01.253597 16\n",
      "2017-10-28 06:00:00.731225 17\n",
      "2017-11-04 06:00:00.357854 18\n",
      "2017-11-11 06:00:00.321106 19\n",
      "2017-11-18 06:00:01.473485 20\n",
      "2017-11-25 06:00:00.800600 21\n",
      "2017-12-02 06:00:02.711687 22\n",
      "2017-12-09 06:00:00.397360 23\n",
      "2017-12-16 06:00:00.159377 24\n",
      "2017-12-23 06:00:00.111081 25\n",
      "2017-12-30 06:00:00.444519 26\n",
      "2018-01-06 06:00:02.062504 27\n",
      "2018-01-13 06:00:00.183606 28\n",
      "2018-01-20 06:00:02.977553 29\n",
      "2018-01-27 06:00:00.680045 30\n"
     ]
    }
   ],
   "source": [
    "num_ebike = 0.4\n",
    "for percent in p:\n",
    "    # number of stations we pick to electrify\n",
    "    num_estation = int(total_stations*percent)\n",
    "    subset = stations_ranked['stationid'][0:num_estation]\n",
    "    \n",
    "    for station in initial_stations.keys():\n",
    "        initial_stations[station]['ecap']= initial_stations[station]['cap']\n",
    "        initial_stations[station]['ebike']=round(initial_stations[station]['ecap']*num_ebike)\n",
    "        initial_stations[station]['bike']=0\n",
    "        initial_stations[station]['cap']=0\n",
    "        if station in subset:\n",
    "            initial_stations[station]['edock'] = initial_stations[station]['ecap']\n",
    "        else:\n",
    "            initial_stations[station]['edock'] = 0\n",
    "    \n",
    "    start_time = time(2017,7,1,hour= 6)\n",
    "    end_time=start_time+ td(weeks=30)\n",
    "    gc=Sim_random_pick_out_of_battery_trip_dest_selection.GlobalClock(start_time,end_time,initial_stations)\n",
    "    gc.clockAdvance() \n",
    "    steady = {}\n",
    "    for i in gc.stations.keys(): \n",
    "        temp={}   \n",
    "        temp['ebike'] = len(gc.stations[i].ebike)\n",
    "        temp['ecap'] = gc.stations[i].ebike_cap\n",
    "        temp['edock'] = gc.stations[i].edock\n",
    "        temp['bike'] = 0\n",
    "        temp['cap'] = 0\n",
    "        steady[i] = temp\n",
    "\n",
    "    f = open(\"steady_states_p/stations_initial_\"+str(percent)+\".txt\",\"w\")\n",
    "    f.write(str(steady))\n",
    "    f.close()\n",
    "    initial_stations = deepcopy(initial_stations_copy)"
   ]
  },
  {
   "cell_type": "code",
   "execution_count": null,
   "metadata": {},
   "outputs": [],
   "source": []
  }
 ],
 "metadata": {
  "kernelspec": {
   "display_name": "Python 3",
   "language": "python",
   "name": "python3"
  },
  "language_info": {
   "codemirror_mode": {
    "name": "ipython",
    "version": 3
   },
   "file_extension": ".py",
   "mimetype": "text/x-python",
   "name": "python",
   "nbconvert_exporter": "python",
   "pygments_lexer": "ipython3",
   "version": "3.6.5"
  }
 },
 "nbformat": 4,
 "nbformat_minor": 2
}
